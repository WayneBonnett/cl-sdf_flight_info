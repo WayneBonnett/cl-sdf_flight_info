{
 "cells": [
  {
   "cell_type": "code",
   "execution_count": 13,
   "metadata": {},
   "outputs": [],
   "source": [
    "import pandas as pd\n",
    "\n",
    "arrivals = pd.read_csv('./combined_data/arrivals.csv', index_col=1)\n",
    "departures = pd.read_csv('./combined_data/departures.csv', index_col=1)\n",
    "airlines = pd.read_csv('passenger_airlines.csv', index_col=0)\n"
   ]
  },
  {
   "cell_type": "code",
   "execution_count": 14,
   "metadata": {},
   "outputs": [
    {
     "name": "stdout",
     "output_type": "stream",
     "text": [
      "(66294, 17)\n",
      "(66294, 17)\n",
      "(66313, 17)\n",
      "(66313, 17)\n"
     ]
    }
   ],
   "source": [
    "print(arrivals.shape)\n",
    "arrivals_tmp = arrivals.drop_duplicates()\n",
    "print(arrivals_tmp.shape)\n",
    "\n",
    "\n",
    "print(departures.shape)\n",
    "departures_tmp = departures.drop_duplicates()\n",
    "print(departures_tmp.shape)"
   ]
  },
  {
   "cell_type": "code",
   "execution_count": 15,
   "metadata": {},
   "outputs": [
    {
     "name": "stdout",
     "output_type": "stream",
     "text": [
      "Index(['id', 'flight_date', 'flight_number', 'tail_number', 'origin',\n",
      "       'sched_arr_time', 'act_arr_time', 'sch_elapsed', 'act_elapsed',\n",
      "       'arr_delay', 'wheels_on', 'taxi_in', 'delay_carrier', 'delay_weather',\n",
      "       'delay_natavsys', 'delay_security', 'delay_late_arrival'],\n",
      "      dtype='object')\n"
     ]
    }
   ],
   "source": [
    "arrivals_tmp.rename(columns={\n",
    "    'ID' : 'id', \n",
    "    'Date (MM/DD/YYYY)' : 'flight_date', \n",
    "    'Flight Number' : 'flight_number', \n",
    "    'Tail Number' : 'tail_number',\n",
    "    'Origin Airport' : 'origin', \n",
    "    'Scheduled Arrival Time' : 'sched_arr_time', \n",
    "    'Actual Arrival Time' : 'act_arr_time',     \n",
    "    'Scheduled Elapsed Time (Minutes)' : 'sch_elapsed', \n",
    "    'Actual Elapsed Time (Minutes)' : 'act_elapsed',   \n",
    "    'Arrival Delay (Minutes)' : 'arr_delay', \n",
    "    'Wheels-on Time' : 'wheels_on', \n",
    "    'Taxi-In time (Minutes)' : 'taxi_in', \n",
    "    'Delay Carrier (Minutes)' : 'delay_carrier', \n",
    "    'Delay Weather (Minutes)' : 'delay_weather',\n",
    "    'Delay National Aviation System (Minutes)'  : 'delay_natavsys',\n",
    "    'Delay Security (Minutes)' : 'delay_security',\n",
    "    'Delay Late Aircraft Arrival (Minutes)' : 'delay_late_arrival'\n",
    "   \n",
    "},inplace=True)\n",
    "\n",
    "print(arrivals_tmp.columns)"
   ]
  },
  {
   "cell_type": "code",
   "execution_count": 16,
   "metadata": {},
   "outputs": [
    {
     "name": "stdout",
     "output_type": "stream",
     "text": [
      "(66313, 17)\n",
      "(66313, 17)\n",
      "Index(['id', 'flight_date', 'flight_number', 'tail_number', 'dest',\n",
      "       'sched_dep_time', 'act_dep_time', 'sch_elapsed', 'act_elapsed',\n",
      "       'dep_delay', 'Wheels-off time', 'taxi_out', 'delay_carrier',\n",
      "       'delay_weather', 'delay_natavsys', 'delay_security',\n",
      "       'delay_late_arrival'],\n",
      "      dtype='object')\n"
     ]
    }
   ],
   "source": [
    "print(departures.shape)\n",
    "departures_tmp = departures.drop_duplicates()\n",
    "print(departures_tmp.shape)\n",
    "\n",
    "departures_tmp.rename(columns={\n",
    "    'ID' : 'id', \n",
    "    'Date (MM/DD/YYYY)' : 'flight_date', \n",
    "    'Flight Number' : 'flight_number', \n",
    "    'Tail Number' : 'tail_number',\n",
    "    'Destination Airport' : 'dest', \n",
    "    'Scheduled departure time' : 'sched_dep_time', \n",
    "    'Actual departure time' : 'act_dep_time',     \n",
    "    'Scheduled elapsed time (Minutes)' : 'sch_elapsed', \n",
    "    'Actual elapsed time (Minutes)' : 'act_elapsed',   \n",
    "    'Departure delay (Minutes)' : 'dep_delay', \n",
    "    'Wheels-off Time' : 'wheels_off', \n",
    "    'Taxi-Out time (Minutes)' : 'taxi_out', \n",
    "    'Delay Carrier (Minutes)' : 'delay_carrier', \n",
    "    'Delay Weather (Minutes)' : 'delay_weather',\n",
    "    'Delay National Aviation System (Minutes)'  : 'delay_natavsys',\n",
    "    'Delay Security (Minutes)' : 'delay_security',\n",
    "    'Delay Late Aircraft Arrival (Minutes)' : 'delay_late_arrival'\n",
    "   \n",
    "},inplace=True)\n",
    "\n",
    "print(departures_tmp.columns)\n"
   ]
  }
 ],
 "metadata": {
  "kernelspec": {
   "display_name": "Python 3",
   "language": "python",
   "name": "python3"
  },
  "language_info": {
   "codemirror_mode": {
    "name": "ipython",
    "version": 3
   },
   "file_extension": ".py",
   "mimetype": "text/x-python",
   "name": "python",
   "nbconvert_exporter": "python",
   "pygments_lexer": "ipython3",
   "version": "3.11.1"
  },
  "orig_nbformat": 4,
  "vscode": {
   "interpreter": {
    "hash": "7c5ae0e0068311a740170c6ff2da5eb1a6df1ef15438aa074b35425986cad1a8"
   }
  }
 },
 "nbformat": 4,
 "nbformat_minor": 2
}
